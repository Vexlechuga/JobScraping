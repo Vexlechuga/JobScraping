{
 "cells": [
  {
   "cell_type": "markdown",
   "source": [
    "# Import google oauth python script to setup api"
   ],
   "metadata": {}
  },
  {
   "cell_type": "code",
   "execution_count": 13,
   "source": [
    "from Google import Create_Service"
   ],
   "outputs": [],
   "metadata": {}
  },
  {
   "cell_type": "markdown",
   "source": [
    "# Define pertinent variables for service call"
   ],
   "metadata": {}
  },
  {
   "cell_type": "code",
   "execution_count": 14,
   "source": [
    "CLIENT_SECRET_FILE = 'key.json'\r\n",
    "DRIVE_API_NAME = 'drive'\r\n",
    "SHEETS_API_NAME = 'sheets'\r\n",
    "DRIVE_API_VERSION = 'v3'\r\n",
    "SHEETS_API_VERSION = 'v4'\r\n",
    "SCOPES = ['https://www.googleapis.com/auth/spreadsheets', 'https://www.googleapis.com/auth/drive']\r\n",
    "FOLDER_NAME = 'Job Stuff'\r\n",
    "FILE_NAME = \"Scraper Job Tracker Sheet\""
   ],
   "outputs": [],
   "metadata": {}
  },
  {
   "cell_type": "markdown",
   "source": [
    "# Call create service for Google Drive API"
   ],
   "metadata": {}
  },
  {
   "cell_type": "code",
   "execution_count": 15,
   "source": [
    "service = Create_Service(CLIENT_SECRET_FILE, DRIVE_API_NAME, DRIVE_API_VERSION, SCOPES)"
   ],
   "outputs": [
    {
     "output_type": "stream",
     "name": "stdout",
     "text": [
      "key.json-drive-v3-(['https://www.googleapis.com/auth/spreadsheets', 'https://www.googleapis.com/auth/drive'],)\n",
      "['https://www.googleapis.com/auth/spreadsheets', 'https://www.googleapis.com/auth/drive']\n",
      "drive service created successfully\n"
     ]
    }
   ],
   "metadata": {}
  },
  {
   "cell_type": "markdown",
   "source": [
    "# Request a certain folder, if not found, create the folder"
   ],
   "metadata": {}
  },
  {
   "cell_type": "code",
   "execution_count": 16,
   "source": [
    "response = service.files().list(q=\"name = '\" + FOLDER_NAME + \"' and mimeType = 'application/vnd.google-apps.folder' and trashed=false\", spaces='drive', fields='nextPageToken, files(id, name)').execute()\r\n",
    "folderId = None\r\n",
    "if(response['files']):\r\n",
    "    folderId = response['files'][0]['id']\r\n",
    "else:\r\n",
    "    file_metadata = {\r\n",
    "        'name': FOLDER_NAME,\r\n",
    "        'mimeType': 'application/vnd.google-apps.folder',\r\n",
    "    }\r\n",
    "    folder = service.files().create(body=file_metadata, fields='id').execute()\r\n",
    "    folderid = folder.get('id')"
   ],
   "outputs": [],
   "metadata": {}
  },
  {
   "cell_type": "markdown",
   "source": [
    "# Find spreadsheet, if it doesnt exist, make the sheet"
   ],
   "metadata": {}
  },
  {
   "cell_type": "code",
   "execution_count": 17,
   "source": [
    "response = service.files().list(q=\"parents='\" + folderId + \"' and name = '\" + FILE_NAME + \"' and mimeType = 'application/vnd.google-apps.spreadsheet' and trashed=false\", spaces='drive', fields='nextPageToken, files(id, name)').execute()\r\n",
    "spreadsheetId = None\r\n",
    "isCreated = False\r\n",
    "worksheetId = None\r\n",
    "if(response['files']):\r\n",
    "    spreadsheetId = response['files'][0]['id']\r\n",
    "else:\r\n",
    "    isCreated = True\r\n",
    "    file_metadata = {\r\n",
    "        'name': FILE_NAME,\r\n",
    "        'mimeType': 'application/vnd.google-apps.spreadsheet',\r\n",
    "        'parents': [folderId]\r\n",
    "    }\r\n",
    "    sheet = service.files().create(body=file_metadata, fields='id').execute()\r\n",
    "    spreadsheetId = sheet.get('id')"
   ],
   "outputs": [],
   "metadata": {}
  },
  {
   "cell_type": "markdown",
   "source": [
    "# Call Create Service for Google Sheets API"
   ],
   "metadata": {}
  },
  {
   "cell_type": "code",
   "execution_count": 18,
   "source": [
    "service = Create_Service(CLIENT_SECRET_FILE, SHEETS_API_NAME, SHEETS_API_VERSION, SCOPES)"
   ],
   "outputs": [
    {
     "output_type": "stream",
     "name": "stdout",
     "text": [
      "key.json-sheets-v4-(['https://www.googleapis.com/auth/spreadsheets', 'https://www.googleapis.com/auth/drive'],)\n",
      "['https://www.googleapis.com/auth/spreadsheets', 'https://www.googleapis.com/auth/drive']\n",
      "sheets service created successfully\n"
     ]
    }
   ],
   "metadata": {}
  },
  {
   "cell_type": "markdown",
   "source": [
    "# Format sheet header and worksheet if just created"
   ],
   "metadata": {}
  },
  {
   "cell_type": "markdown",
   "source": [
    "### Rename worksheet name"
   ],
   "metadata": {}
  },
  {
   "cell_type": "code",
   "execution_count": 19,
   "source": [
    "jblisting = \"Job Listing\"\r\n",
    "if(isCreated):\r\n",
    "    response = service.spreadsheets().get(spreadsheetId=spreadsheetId).execute()\r\n",
    "    worksheetId = response['sheets'][0]['properties']['sheetId']\r\n",
    "    requests = []\r\n",
    "    requests.append({\r\n",
    "        'updateSheetProperties': {\r\n",
    "            'properties': {\r\n",
    "                'sheetId': worksheetId,\r\n",
    "                'title': jblisting\r\n",
    "            },\r\n",
    "            'fields': 'title'\r\n",
    "        }\r\n",
    "    })\r\n",
    "    body = {\r\n",
    "        'requests': requests\r\n",
    "    }\r\n",
    "    response = service.spreadsheets().batchUpdate(\r\n",
    "        spreadsheetId=spreadsheetId,\r\n",
    "        body = body\r\n",
    "    ).execute()\r\n",
    "else:\r\n",
    "    response = service.spreadsheets().get(spreadsheetId=spreadsheetId).execute()\r\n",
    "    worksheetId = response['sheets'][0]['properties']['sheetId']   \r\n"
   ],
   "outputs": [],
   "metadata": {}
  },
  {
   "cell_type": "markdown",
   "source": [
    "### Insert header text"
   ],
   "metadata": {}
  },
  {
   "cell_type": "code",
   "execution_count": 20,
   "source": [
    "if(isCreated):\r\n",
    "    values = [\r\n",
    "        [\r\n",
    "        'Job Title',\r\n",
    "        'Company',\r\n",
    "        'Post Date',\r\n",
    "        'Date Applied',\r\n",
    "        'City,Zip',\r\n",
    "        'Salary',\r\n",
    "        'Job Type',\r\n",
    "        'Number of Hires',\r\n",
    "        'Benefits',\r\n",
    "        'Schedule',\r\n",
    "        'Education',\r\n",
    "        'Experience',\r\n",
    "        'Remote',\r\n",
    "        'Work Location',\r\n",
    "        'Interview',\r\n",
    "        'Follow-up Contact'\r\n",
    "        ]\r\n",
    "    ]\r\n",
    "    body = {\r\n",
    "        'values': values\r\n",
    "    }\r\n",
    "    response = service.spreadsheets().values().update(\r\n",
    "        spreadsheetId = spreadsheetId, range=jblisting+'!A1', valueInputOption='USER_ENTERED', body=body\r\n",
    "    ).execute()"
   ],
   "outputs": [],
   "metadata": {}
  },
  {
   "cell_type": "markdown",
   "source": [
    "### Format Header"
   ],
   "metadata": {}
  },
  {
   "cell_type": "code",
   "execution_count": 21,
   "source": [
    "if(isCreated):\r\n",
    "    requests = []\r\n",
    "    requests.append(\r\n",
    "    {\r\n",
    "        \"repeatCell\":{\r\n",
    "            \"range\":{\r\n",
    "            \"sheetId\": worksheetId,\r\n",
    "            \"startColumnIndex\": 0,\r\n",
    "            \"endColumnIndex\": 16,\r\n",
    "            \"startRowIndex\": 0,\r\n",
    "            \"endRowIndex\": 1\r\n",
    "        },\r\n",
    "        #rgb(183,183,183)\r\n",
    "            \"cell\": {\r\n",
    "                \"userEnteredFormat\":{\r\n",
    "                    \"backgroundColor\":{\r\n",
    "                        \"red\": 0.7177,\r\n",
    "                        \"green\": 0.7177,\r\n",
    "                        \"blue\": 0.7177\r\n",
    "                    },\r\n",
    "                    \"horizontalAlignment\": \"CENTER\",\r\n",
    "                    \"textFormat\":{\r\n",
    "                        \"foregroundColor\":{\r\n",
    "                            \"red\": 1.0,\r\n",
    "                            \"green\": 1.0,\r\n",
    "                            \"blue\": 1.0\r\n",
    "                        },\r\n",
    "                        \"fontSize\" : 10\r\n",
    "                    }\r\n",
    "                }\r\n",
    "            },\r\n",
    "            \"fields\": \"userEnteredFormat(backgroundColor, textFormat, horizontalAlignment)\"\r\n",
    "        }\r\n",
    "    })\r\n",
    "    requests.append({\r\n",
    "        \"updateSheetProperties\": {\r\n",
    "            \"properties\": {\r\n",
    "                \"sheetId\": worksheetId,\r\n",
    "                \"gridProperties\": {\r\n",
    "                    \"frozenRowCount\": 1\r\n",
    "                }\r\n",
    "            },\r\n",
    "            \"fields\": \"gridProperties.frozenRowCount\"\r\n",
    "        }\r\n",
    "    })\r\n",
    "    requests.append({\r\n",
    "        \"autoResizeDimensions\": {\r\n",
    "            \"dimensions\": {\r\n",
    "                \"sheetId\": worksheetId,\r\n",
    "                \"dimension\": \"COLUMNS\",\r\n",
    "                \"startIndex\": 0,\r\n",
    "                \"endIndex\": 16\r\n",
    "            }\r\n",
    "        }\r\n",
    "    })\r\n",
    "    body = {\r\n",
    "        \"requests\": requests\r\n",
    "    }\r\n",
    "    response = service.spreadsheets().batchUpdate(\r\n",
    "        spreadsheetId=spreadsheetId, body=body\r\n",
    "    ).execute()"
   ],
   "outputs": [],
   "metadata": {}
  },
  {
   "cell_type": "markdown",
   "source": [
    "# Format the data cells"
   ],
   "metadata": {}
  },
  {
   "cell_type": "markdown",
   "source": [
    "### Center the boxes horizontal and set text font"
   ],
   "metadata": {}
  },
  {
   "cell_type": "code",
   "execution_count": 24,
   "source": [
    "if(isCreated):\r\n",
    "    requests = []\r\n",
    "    requests.append({\r\n",
    "        \"repeatCell\":{\r\n",
    "            \"range\":{\r\n",
    "            \"sheetId\": worksheetId,\r\n",
    "            \"startColumnIndex\": 0,\r\n",
    "            \"endColumnIndex\": 16,\r\n",
    "        },\r\n",
    "            \"cell\": {\r\n",
    "                \"userEnteredFormat\":{\r\n",
    "                    \"horizontalAlignment\": \"CENTER\",\r\n",
    "                    \"textFormat\":{\r\n",
    "                        \"fontSize\" : 10\r\n",
    "                    }\r\n",
    "                }\r\n",
    "            },\r\n",
    "            \"fields\": \"userEnteredFormat(textFormat, horizontalAlignment)\"\r\n",
    "        }\r\n",
    "    })"
   ],
   "outputs": [],
   "metadata": {}
  },
  {
   "cell_type": "markdown",
   "source": [
    "### Set some cells to auto resize"
   ],
   "metadata": {}
  },
  {
   "cell_type": "code",
   "execution_count": null,
   "source": [
    "if(isCreated):\r\n",
    "    requests.append({\r\n",
    "        \"autoResizeDimensions\": {\r\n",
    "            \"dimensions\": {\r\n",
    "                \"sheetId\": worksheetId,\r\n",
    "                \"dimension\": \"COLUMNS\",\r\n",
    "                \"startIndex\": 0,\r\n",
    "                \"endIndex\": 6\r\n",
    "            }\r\n",
    "        }\r\n",
    "    })\r\n",
    "    requests.append({\r\n",
    "        \"autoResizeDimensions\": {\r\n",
    "            \"dimensions\": {\r\n",
    "                \"sheetId\": worksheetId,\r\n",
    "                \"dimension\": \"COLUMNS\",\r\n",
    "                \"startIndex\": 13,\r\n",
    "                \"endIndex\": 16\r\n",
    "            }\r\n",
    "        }\r\n",
    "    })"
   ],
   "outputs": [],
   "metadata": {}
  },
  {
   "cell_type": "markdown",
   "source": [
    "### Expand width of all cells"
   ],
   "metadata": {}
  },
  {
   "cell_type": "code",
   "execution_count": null,
   "source": [
    "if(isCreated):\r\n",
    "    requests.append({\r\n",
    "        \"updateDimensionProperties\":{\r\n",
    "            \"range\":{\r\n",
    "                \"sheetId\": worksheetId,\r\n",
    "                \"dimension\":\"COLUMNS\",\r\n",
    "                \"startIndex\": 0,\r\n",
    "                \"endIndex\": 16\r\n",
    "            },\r\n",
    "            \"properties\":{\r\n",
    "                \"pixelSize\": 150\r\n",
    "            },\r\n",
    "            \"fields\": \"pixelSize\"\r\n",
    "        }\r\n",
    "    })"
   ],
   "outputs": [],
   "metadata": {}
  },
  {
   "cell_type": "markdown",
   "source": [
    "### If info is not listed, or anything is set to no, set the cells color to red."
   ],
   "metadata": {}
  },
  {
   "cell_type": "code",
   "execution_count": null,
   "source": [
    "if(isCreated):\r\n",
    "    requests.append({\r\n",
    "        \"addConditionalFormatRule\":{\r\n",
    "            \"rule\":{\r\n",
    "                \"ranges\":[\r\n",
    "                    {\r\n",
    "                        \"sheetId\": worksheetId,\r\n",
    "                        \"startColumnIndex\": 0,\r\n",
    "                        \"endColumnIndex\": 16,\r\n",
    "                        \"startRowIndex\": 1\r\n",
    "                    }\r\n",
    "                ],\r\n",
    "                \"booleanRule\":{\r\n",
    "                    \"condition\":{\r\n",
    "                        \"type\": \"TEXT_EQ\",\r\n",
    "                        \"values\":[\r\n",
    "                            {\r\n",
    "                                \"userEnteredValue\": \"No\",\r\n",
    "                                \"userEnteredValue\": \"Not Listed\"\r\n",
    "                            }\r\n",
    "                        ]\r\n",
    "                    },\r\n",
    "                    \"format\":{\r\n",
    "                        \"backgroundColor\": {\r\n",
    "                            \"red\": 1.0,\r\n",
    "                            \"green\": 0,\r\n",
    "                            \"blue\": 0\r\n",
    "                        },\r\n",
    "                        \"textFormat\":{\r\n",
    "                            \"foregroundColor\":{\r\n",
    "                                \"red\": 1.0,\r\n",
    "                                \"green\": 1.0,\r\n",
    "                                \"blue\": 1.0\r\n",
    "                            }\r\n",
    "                        }\r\n",
    "                    }\r\n",
    "                }\r\n",
    "            }\r\n",
    "        }\r\n",
    "    })"
   ],
   "outputs": [],
   "metadata": {}
  },
  {
   "cell_type": "markdown",
   "source": [
    "### Reset blanks cells color to white"
   ],
   "metadata": {}
  },
  {
   "cell_type": "code",
   "execution_count": null,
   "source": [
    "if(isCreated):\r\n",
    "    requests.append({\r\n",
    "        \"addConditionalFormatRule\":{\r\n",
    "            \"rule\":{\r\n",
    "                \"ranges\":[\r\n",
    "                    {\r\n",
    "                        \"sheetId\": worksheetId,\r\n",
    "                        \"startColumnIndex\": 0,\r\n",
    "                        \"endColumnIndex\": 16,\r\n",
    "                        \"startRowIndex\": 1\r\n",
    "                    }\r\n",
    "                ],\r\n",
    "                \"booleanRule\":{\r\n",
    "                    \"condition\":{\r\n",
    "                        \"type\": \"BLANK\",\r\n",
    "                    },\r\n",
    "                    \"format\":{\r\n",
    "                        \"backgroundColor\": {\r\n",
    "                            \"red\": 1.0,\r\n",
    "                            \"green\": 1.0,\r\n",
    "                            \"blue\": 1.0\r\n",
    "                        }\r\n",
    "                    }\r\n",
    "                }\r\n",
    "            }\r\n",
    "        }\r\n",
    "    })"
   ],
   "outputs": [],
   "metadata": {}
  },
  {
   "cell_type": "markdown",
   "source": [
    "### If cells are equal to yes, the cells color is green."
   ],
   "metadata": {}
  },
  {
   "cell_type": "code",
   "execution_count": null,
   "source": [
    "if(isCreated):\r\n",
    "    requests.append({\r\n",
    "        \"addConditionalFormatRule\":{\r\n",
    "            \"rule\":{\r\n",
    "                \"ranges\":[\r\n",
    "                    {\r\n",
    "                        \"sheetId\": worksheetId,\r\n",
    "                        \"startColumnIndex\": 0,\r\n",
    "                        \"endColumnIndex\": 16,\r\n",
    "                        \"startRowIndex\": 1\r\n",
    "                    }\r\n",
    "                ],\r\n",
    "                \"booleanRule\":{\r\n",
    "                    \"condition\":{\r\n",
    "                        \"type\": \"TEXT_EQ\",\r\n",
    "                        \"values\":[\r\n",
    "                            {\r\n",
    "                                \"userEnteredValue\": \"Yes\",\r\n",
    "                            }\r\n",
    "                        ]\r\n",
    "                    },\r\n",
    "                    \"format\":{\r\n",
    "                        \"backgroundColor\": {\r\n",
    "                            \"red\": 0,\r\n",
    "                            \"green\": 1.0,\r\n",
    "                            \"blue\": 0\r\n",
    "                        },\r\n",
    "                        \"textFormat\":{\r\n",
    "                            \"foregroundColor\":{\r\n",
    "                                \"red\": 1.0,\r\n",
    "                                \"green\": 1.0,\r\n",
    "                                \"blue\": 1.0\r\n",
    "                            }\r\n",
    "                        }\r\n",
    "                    }\r\n",
    "                }\r\n",
    "            }\r\n",
    "        }\r\n",
    "    })"
   ],
   "outputs": [],
   "metadata": {}
  },
  {
   "cell_type": "markdown",
   "source": [
    "### Set text to wrap and set list for follow-up email and interview"
   ],
   "metadata": {}
  },
  {
   "cell_type": "code",
   "execution_count": 26,
   "source": [
    "if(isCreated):\r\n",
    "    requests.append({\r\n",
    "        \"repeatCell\":{\r\n",
    "            \"range\":{\r\n",
    "                \"sheetId\": worksheetId,\r\n",
    "                \"startColumnIndex\": 0,\r\n",
    "                \"endColumnIndex\": 16,\r\n",
    "                \"startRowIndex\": 1\r\n",
    "            },\r\n",
    "            \"cell\":{\r\n",
    "                \"userEnteredFormat\":{\r\n",
    "                    \"wrapStrategy\": \"WRAP\",\r\n",
    "                    \"verticalAlignment\": \"TOP\"\r\n",
    "            }\r\n",
    "            },\r\n",
    "            \"fields\": \"userEnteredFormat(wrapStrategy,verticalAlignment)\"\r\n",
    "        }\r\n",
    "    })\r\n",
    "    requests.append({\r\n",
    "        \"repeatCell\":{\r\n",
    "            \"range\":{\r\n",
    "                \"sheetId\": worksheetId,\r\n",
    "                \"startColumnIndex\": 14,\r\n",
    "                \"endColumnIndex\": 16,\r\n",
    "                \"startRowIndex\": 1\r\n",
    "            },\r\n",
    "            \"cell\":{\r\n",
    "                \"dataValidation\":{\r\n",
    "                    \"condition\":{\r\n",
    "                        \"type\": \"ONE_OF_LIST\",\r\n",
    "                        \"values\": [\r\n",
    "                            {\r\n",
    "                                \"userEnteredValue\": \"Yes\",\r\n",
    "                            },\r\n",
    "                            {\r\n",
    "                                \"userEnteredValue\": \"No\"\r\n",
    "                            }\r\n",
    "                        ]\r\n",
    "                    },\r\n",
    "                    \"strict\": True,\r\n",
    "                    \"showCustomUi\": True\r\n",
    "                }\r\n",
    "            },\r\n",
    "            \"fields\": \"dataValidation(condition, strict, showCustomUi)\"\r\n",
    "        }\r\n",
    "    })"
   ],
   "outputs": [],
   "metadata": {}
  },
  {
   "cell_type": "markdown",
   "source": [
    "### Send in batchupdate of forms"
   ],
   "metadata": {}
  },
  {
   "cell_type": "code",
   "execution_count": null,
   "source": [
    "if(isCreated):\r\n",
    "    body = {\r\n",
    "        \"requests\": requests\r\n",
    "    }\r\n",
    "    response = service.spreadsheets().batchUpdate(\r\n",
    "        spreadsheetId=spreadsheetId, body=body\r\n",
    "    ).execute()"
   ],
   "outputs": [],
   "metadata": {}
  },
  {
   "cell_type": "markdown",
   "source": [
    "# Insert form data from job listing\r\n",
    "## We are using mock data"
   ],
   "metadata": {}
  },
  {
   "cell_type": "code",
   "execution_count": 23,
   "source": [
    "#['Lab Assistant-Office Help', 'Turf Tech, Inc.', '08/132021', '08/14/2021', 'Tangent, OR 97389', 'From $12 an hour', 'Full-time, Part-time', '3', 'Not Listed', '8 hour shift, Monday to Friday, On call', \"Bachelor's (Preferred)\", 'Not Listed', 'No', 'One location', 'No', 'No']\r\n",
    "values = [\r\n",
    "    [\r\n",
    "        'Lab Assistant-Office Help', \r\n",
    "        'Turf Tech, Inc.', \r\n",
    "        '08/132021', '08/14/2021', \r\n",
    "        'Tangent, OR 97389', \r\n",
    "        'From $12 an hour', \r\n",
    "        'Full-time, Part-time', \r\n",
    "        '3', 'Not Listed', \r\n",
    "        '8 hour shift, Monday to Friday, On call', \r\n",
    "        \"Bachelor's (Preferred)\", \r\n",
    "        'Not Listed', \r\n",
    "        'No', \r\n",
    "        'One location', \r\n",
    "        'No', \r\n",
    "        'No'\r\n",
    "    ]\r\n",
    "]\r\n",
    "body = {\r\n",
    "    'values': values\r\n",
    "}\r\n",
    "response = service.spreadsheets().values().append(\r\n",
    "    spreadsheetId=spreadsheetId,\r\n",
    "    range=jblisting+\"!A1\",\r\n",
    "    valueInputOption=\"USER_ENTERED\",\r\n",
    "    body=body\r\n",
    ").execute()"
   ],
   "outputs": [],
   "metadata": {}
  }
 ],
 "metadata": {
  "orig_nbformat": 4,
  "language_info": {
   "name": "python",
   "version": "3.9.6",
   "mimetype": "text/x-python",
   "codemirror_mode": {
    "name": "ipython",
    "version": 3
   },
   "pygments_lexer": "ipython3",
   "nbconvert_exporter": "python",
   "file_extension": ".py"
  },
  "kernelspec": {
   "name": "python3",
   "display_name": "Python 3.9.6 64-bit"
  },
  "interpreter": {
   "hash": "b206277baa9925c5d6c1260b88da1d93a80b57be13e60d03dc259b07cdaaab80"
  }
 },
 "nbformat": 4,
 "nbformat_minor": 2
}