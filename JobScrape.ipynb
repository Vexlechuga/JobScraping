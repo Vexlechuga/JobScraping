{
    "cells": [
        {
            "cell_type": "code",
            "execution_count": null,
            "source": [],
            "outputs": [],
            "metadata": {}
        },
        {
            "cell_type": "markdown",
            "source": [
                "# Importing necessary resources/library's for web scraping"
            ],
            "metadata": {}
        },
        {
            "cell_type": "code",
            "execution_count": 1,
            "source": [
                "import requests\r\n",
                "from bs4 import BeautifulSoup as bs\r\n",
                "from datetime import timedelta, date\r\n",
                "import re\r\n",
                "import os"
            ],
            "outputs": [],
            "metadata": {}
        },
        {
            "cell_type": "markdown",
            "source": [
                "# Request html from job listing and check the status."
            ],
            "metadata": {}
        },
        {
            "cell_type": "code",
            "execution_count": 2,
            "source": [
                "html = requests.get('https://www.indeed.com/viewjob?cmp=Comforts-Suites-Corvallis-Oregon&t=Hotel+Front+Desk+Agent&jk=373c700661954885&q=front+desk&vjs=3')\r\n",
                "assert html.status_code == 200, \"HTML retrieval is not complete.\""
            ],
            "outputs": [],
            "metadata": {
                "tags": []
            }
        },
        {
            "cell_type": "markdown",
            "source": [
                "# Parse the HTML"
            ],
            "metadata": {}
        },
        {
            "cell_type": "code",
            "execution_count": 3,
            "source": [
                "soup = bs(html.content, 'lxml')"
            ],
            "outputs": [],
            "metadata": {}
        },
        {
            "cell_type": "markdown",
            "source": [
                "# Create job tuple for holding pertinant info of job listing"
            ],
            "metadata": {}
        },
        {
            "cell_type": "code",
            "execution_count": 4,
            "source": [
                "job = {\r\n",
                "    \"jobtitle\" : '',\r\n",
                "    \"company\": '',\r\n",
                "    \"postdate\" : '',\r\n",
                "    \"dateapplied\" : '',\r\n",
                "    \"cityzip\": '',\r\n",
                "    \"salary\": '',\r\n",
                "    \"jobtype\": '',\r\n",
                "    \"numberofhires\": '',\r\n",
                "    \"benefits\": '',\r\n",
                "    \"schedule\": '',\r\n",
                "    \"education\": '',\r\n",
                "    \"experience\": '',\r\n",
                "    \"remote\": '',\r\n",
                "    \"worklocation\": '',\r\n",
                "    \"interview\": '',\r\n",
                "    \"followupcontact\": '',\r\n",
                "}"
            ],
            "outputs": [],
            "metadata": {}
        },
        {
            "cell_type": "markdown",
            "source": [
                "# Retrieve the job title and set directory/file name of job listing"
            ],
            "metadata": {}
        },
        {
            "cell_type": "code",
            "execution_count": 5,
            "source": [
                "job[\"jobtitle\"] = re.sub('#|\\/|%|&|{|}|\\\\|<|>|\\*|\\?|\\$|!|\\'|\\\"|:|@|\\+|`|\\||=', '-', soup.find(\"h1\", class_=\"jobsearch-JobInfoHeader-title\").text)\r\n",
                "# This can be any folder, just set this to where you want the job listings to be saved\r\n",
                "basedir = 'C:\\\\Users\\Dean Akin\\\\Documents\\\\Professional Documents\\\\Employment\\\\Job Listings'\r\n",
                "dirfile = job[\"jobtitle\"]"
            ],
            "outputs": [],
            "metadata": {}
        },
        {
            "cell_type": "markdown",
            "source": [
                "# Retrieve company name"
            ],
            "metadata": {}
        },
        {
            "cell_type": "code",
            "execution_count": 6,
            "source": [
                "job['company'] = re.sub('#|\\/|%|&|{|}|\\\\|<|>|\\*|\\?|\\$|!|\\'|\\\"|:|@|\\+|`|\\||=', '-', soup.find('div', class_='jobsearch-JobInfoHeader-subtitle').contents[0].text)\r\n",
                "dirfile = dirfile + ' - ' + job['company']\r\n",
                "print(dirfile)"
            ],
            "outputs": [
                {
                    "output_type": "stream",
                    "name": "stdout",
                    "text": [
                        "Hotel Front Desk Agent - Comforts Suites Corvallis Oregon\n"
                    ]
                }
            ],
            "metadata": {}
        },
        {
            "cell_type": "markdown",
            "source": [
                "# Calculate the post date and the date applied"
            ],
            "metadata": {}
        },
        {
            "cell_type": "code",
            "execution_count": 7,
            "source": [
                "postdate=soup.find(\"div\", class_=\"jobsearch-JobMetadataFooter\")\r\n",
                "reg = re.compile('div class') \r\n",
                "match = reg.search(str(postdate.contents[0]))\r\n",
                "postdate = postdate.contents[1].text if match else postdate.contents[0].text\r\n",
                "if(postdate == \"Just posted\"):\r\n",
                "    job['postdate'] = job['dateapplied'] = date.today.strftime(\"%m/%d/%Y\")\r\n",
                "else:\r\n",
                "    postdate = postdate.split()\r\n",
                "if(postdate[0] == \"30+\"):\r\n",
                "    postdate = date.today() - timedelta(days=30)\r\n",
                "else:\r\n",
                "    postdate = date.today() - timedelta(days=int(postdate[0]))\r\n",
                "job[\"postdate\"] = postdate.strftime(\"%m/%d%Y\")\r\n",
                "job[\"dateapplied\"]=date.today().strftime(\"%m/%d/%Y\")"
            ],
            "outputs": [],
            "metadata": {}
        },
        {
            "cell_type": "markdown",
            "source": [
                "# Scrape the city and zip"
            ],
            "metadata": {}
        },
        {
            "cell_type": "code",
            "execution_count": 8,
            "source": [
                "job['cityzip'] = soup.find('div', class_='jobsearch-JobInfoHeader-subtitle').contents[1].text"
            ],
            "outputs": [],
            "metadata": {}
        },
        {
            "cell_type": "markdown",
            "source": [
                "# Scrape the job info seciton for salary, job type, and number of hires"
            ],
            "metadata": {}
        },
        {
            "cell_type": "code",
            "execution_count": 9,
            "source": [
                "salary=soup.find('div', id='jobDetailsSection')\r\n",
                "jobDescSection = [[], [], []]\r\n",
                "if(salary):\r\n",
                "    for i in salary.contents:\r\n",
                "        for j in i.contents:\r\n",
                "            if(j.parent.contents[0].text == \"Salary\"):\r\n",
                "                if(j.text == \"Salary\"):\r\n",
                "                    continue\r\n",
                "                jobDescSection[0].append(j.text)\r\n",
                "            elif(j.parent.contents[0].text == \"Job Type\"):\r\n",
                "                if(j.text == \"Job Type\"):\r\n",
                "                    continue\r\n",
                "                jobDescSection[1].append(j.text)\r\n",
                "            elif(j.parent.contents[0].text == \"Number of hires for this role\"):\r\n",
                "                if(j.text == \"Number of hires for this role\"):\r\n",
                "                    continue\r\n",
                "                jobDescSection[2].append(j.text)\r\n",
                "if(jobDescSection[0]):\r\n",
                "    job['salary'] =\", \".join(jobDescSection[0])\r\n",
                "else:\r\n",
                "    job['salary'] = 'Not Listed'\r\n",
                "if(jobDescSection[1]):\r\n",
                "    job['jobtype']=\", \".join(jobDescSection[1])\r\n",
                "else:\r\n",
                "    job['jobtype'] = 'Not Listed'\r\n",
                "if(jobDescSection[2]):\r\n",
                "    job['numberofhires'] = \", \".join(jobDescSection[2])\r\n",
                "else:\r\n",
                "    job['numberofhires'] = 'Not Listed'"
            ],
            "outputs": [],
            "metadata": {}
        },
        {
            "cell_type": "markdown",
            "source": [
                "# Scrape the webpage for Benefits"
            ],
            "metadata": {}
        },
        {
            "cell_type": "code",
            "execution_count": 10,
            "source": [
                "jobDesc = soup.find('div', class_='jobsearch-JobComponent-description')\r\n",
                "reg = re.compile('(?<=<p>benefits:</p><ul>)((<li>.+?</li>)+)', re.IGNORECASE)\r\n",
                "match = reg.search(str(jobDesc))\r\n",
                "if(match):\r\n",
                "    match = re.split(\"<li>|</li>\", match.group())\r\n",
                "    match = [i for i in match if i]\r\n",
                "    match = ', '.join(match)\r\n",
                "    job['benefits']=match\r\n",
                "else:\r\n",
                "    job['benefits']=\"Not Listed\""
            ],
            "outputs": [],
            "metadata": {}
        },
        {
            "cell_type": "markdown",
            "source": [
                "# Scrape webpage for schedule"
            ],
            "metadata": {}
        },
        {
            "cell_type": "code",
            "execution_count": 11,
            "source": [
                "reg = re.compile('(?<=<p>schedule:</p><ul>)((<li>.+?</li>)+)', re.IGNORECASE)\r\n",
                "match = reg.search(str(jobDesc))\r\n",
                "if(match):\r\n",
                "    match = re.split(\"<li>|</li>\", match.group())\r\n",
                "    match = [i for i in match if i]\r\n",
                "    match = ', '.join(match)\r\n",
                "    job['schedule']=match\r\n",
                "else:\r\n",
                "    job['schedule']=\"Not Listed\""
            ],
            "outputs": [],
            "metadata": {}
        },
        {
            "cell_type": "markdown",
            "source": [
                "# Scrape webpage for education"
            ],
            "metadata": {}
        },
        {
            "cell_type": "code",
            "execution_count": 12,
            "source": [
                "reg = re.compile('(?<=<p>education:</p><ul>)((<li>.+?</li>)+)', re.IGNORECASE)\r\n",
                "match = reg.search(str(jobDesc))\r\n",
                "if(match):\r\n",
                "    match = re.split(\"<li>|</li>\", match.group())\r\n",
                "    match = [i for i in match if i]\r\n",
                "    match = ', '.join(match)\r\n",
                "    job['education']=match\r\n",
                "else:\r\n",
                "    job['education']=\"Not Listed\""
            ],
            "outputs": [],
            "metadata": {}
        },
        {
            "cell_type": "markdown",
            "source": [
                "# Scrape webpage for experience"
            ],
            "metadata": {}
        },
        {
            "cell_type": "code",
            "execution_count": 13,
            "source": [
                "reg = re.compile('(?<=<p>experience:</p><ul>)((<li>.+?</li>)+)', re.IGNORECASE)\r\n",
                "match = reg.search(str(jobDesc))\r\n",
                "if(match):\r\n",
                "    match = re.split(\"<li>|</li>\", match.group())\r\n",
                "    match = [i for i in match if i]\r\n",
                "    match = ', '.join(match)\r\n",
                "    job['experience']=match\r\n",
                "else:\r\n",
                "    job['experience']=\"Not Listed\""
            ],
            "outputs": [],
            "metadata": {}
        },
        {
            "cell_type": "markdown",
            "source": [
                "# Scrape work location"
            ],
            "metadata": {}
        },
        {
            "cell_type": "code",
            "execution_count": 14,
            "source": [
                "reg = re.compile('(?<=<p>work location:</p><ul>)((<li>.+?</li>)+)', re.IGNORECASE)\r\n",
                "match = reg.search(str(jobDesc))\r\n",
                "if(match):\r\n",
                "    match = re.split(\"<li>|</li>\", match.group())\r\n",
                "    match = [i for i in match if i]\r\n",
                "    match = ', '.join(match)\r\n",
                "    job['worklocation']=match\r\n",
                "else:\r\n",
                "    job['worklocation']=\"Not Listed\""
            ],
            "outputs": [],
            "metadata": {}
        },
        {
            "cell_type": "markdown",
            "source": [
                "# Check if its remote"
            ],
            "metadata": {}
        },
        {
            "cell_type": "code",
            "execution_count": 15,
            "source": [
                "reg = re.compile('(?<=<p>work remotely:</p><ul>)((<li>.+?</li>)+)', re.IGNORECASE)\r\n",
                "match = reg.search(str(jobDesc))\r\n",
                "if(match):\r\n",
                "    match = re.split(\"<li>|</li>\", match.group())\r\n",
                "    match = [i for i in match if i]\r\n",
                "    match = ', '.join(match)\r\n",
                "    job['remote']=match\r\n",
                "else:\r\n",
                "    job['remote']=\"Not Listed\""
            ],
            "outputs": [],
            "metadata": {}
        },
        {
            "cell_type": "markdown",
            "source": [
                "# Set Interview or follow-up to no"
            ],
            "metadata": {}
        },
        {
            "cell_type": "code",
            "execution_count": 16,
            "source": [
                "job['interview'] = \"No\"\r\n",
                "job['followupcontact'] = \"No\""
            ],
            "outputs": [],
            "metadata": {}
        },
        {
            "cell_type": "markdown",
            "source": [
                "## Finally, make a directory and text file of the job listing as to keep full description of job if it is pulled of the internet"
            ],
            "metadata": {}
        },
        {
            "cell_type": "code",
            "execution_count": 17,
            "source": [
                "fulldir = basedir + '\\\\' + dirfile\r\n",
                "print(fulldir)\r\n",
                "try:\r\n",
                "    os.mkdir(fulldir)\r\n",
                "except:\r\n",
                "    pass\r\n",
                "html_text=soup.find('div', class_='jobsearch-jobDescriptionText')\r\n",
                "with open(basedir + '\\\\' + dirfile + '\\\\' + dirfile + '.rtx', \"w\") as f:\r\n",
                "    try:\r\n",
                "        f.write(html_text.text)\r\n",
                "    except:\r\n",
                "        pass"
            ],
            "outputs": [
                {
                    "output_type": "stream",
                    "name": "stdout",
                    "text": [
                        "C:\\Users\\Dean Akin\\Documents\\Professional Documents\\Employment\\Job Listings\\Hotel Front Desk Agent - Comforts Suites Corvallis Oregon\n"
                    ]
                }
            ],
            "metadata": {}
        },
        {
            "cell_type": "code",
            "execution_count": 18,
            "source": [
                "print(job)"
            ],
            "outputs": [
                {
                    "output_type": "stream",
                    "name": "stdout",
                    "text": [
                        "{'jobtitle': 'Hotel Front Desk Agent', 'company': 'Comforts Suites Corvallis Oregon', 'postdate': '08/122021', 'dateapplied': '08/15/2021', 'cityzip': 'Corvallis, OR 97330', 'salary': '$13.50 an hour', 'jobtype': 'Part-time', 'numberofhires': '2', 'benefits': 'Employee discount, Paid time off', 'schedule': '8 hour shift', 'education': 'Not Listed', 'experience': 'Hotel Experience: 1 year (Preferred), Customer Service: 1 year (Preferred)', 'remote': 'No', 'worklocation': 'One location', 'interview': 'No', 'followupcontact': 'No'}\n"
                    ]
                }
            ],
            "metadata": {}
        }
    ],
    "metadata": {
        "orig_nbformat": 4,
        "language_info": {
            "name": "python",
            "version": "3.9.6",
            "mimetype": "text/x-python",
            "codemirror_mode": {
                "name": "ipython",
                "version": 3
            },
            "pygments_lexer": "ipython3",
            "nbconvert_exporter": "python",
            "file_extension": ".py"
        },
        "kernelspec": {
            "name": "python3",
            "display_name": "Python 3.9.6 64-bit"
        },
        "interpreter": {
            "hash": "b206277baa9925c5d6c1260b88da1d93a80b57be13e60d03dc259b07cdaaab80"
        }
    },
    "nbformat": 4,
    "nbformat_minor": 2
}